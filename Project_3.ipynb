{
 "cells": [
  {
   "cell_type": "markdown",
   "metadata": {},
   "source": [
    "# Getting started\n",
    "\n",
    "Once you've chosen your scenario, download the data from [the Iowa website](https://data.iowa.gov/Economy/Iowa-Liquor-Sales/m3tr-qhgy) in csv format. Start by loading the data with pandas. You may need to parse the date columns appropriately."
   ]
  },
  {
   "cell_type": "code",
   "execution_count": 117,
   "metadata": {
    "collapsed": false
   },
   "outputs": [
    {
     "name": "stdout",
     "output_type": "stream",
     "text": [
      "<class 'pandas.core.frame.DataFrame'>\n",
      "Int64Index: 256511 entries, 0 to 270954\n",
      "Data columns (total 15 columns):\n",
      "Date                     256511 non-null datetime64[ns]\n",
      "Store Number             256511 non-null int64\n",
      "City                     256511 non-null object\n",
      "Zip Code                 256511 non-null int64\n",
      "County Number            256511 non-null int64\n",
      "Category                 256511 non-null int64\n",
      "Vendor Number            256511 non-null int64\n",
      "Item Number              256511 non-null int64\n",
      "Bottle Volume (ml)       256511 non-null int64\n",
      "State Bottle Cost        256511 non-null float64\n",
      "State Bottle Retail      256511 non-null float64\n",
      "Bottles Sold             256511 non-null int64\n",
      "Sale (Dollars)           256511 non-null float64\n",
      "Volume Sold (Liters)     256511 non-null float64\n",
      "Volume Sold (Gallons)    256511 non-null float64\n",
      "dtypes: datetime64[ns](1), float64(5), int64(8), object(1)\n",
      "memory usage: 31.3+ MB\n",
      "None\n"
     ]
    },
    {
     "data": {
      "text/html": [
       "<div>\n",
       "<table border=\"1\" class=\"dataframe\">\n",
       "  <thead>\n",
       "    <tr style=\"text-align: right;\">\n",
       "      <th></th>\n",
       "      <th>Date</th>\n",
       "      <th>Store Number</th>\n",
       "      <th>City</th>\n",
       "      <th>Zip Code</th>\n",
       "      <th>County Number</th>\n",
       "      <th>Category</th>\n",
       "      <th>Vendor Number</th>\n",
       "      <th>Item Number</th>\n",
       "      <th>Bottle Volume (ml)</th>\n",
       "      <th>State Bottle Cost</th>\n",
       "      <th>State Bottle Retail</th>\n",
       "      <th>Bottles Sold</th>\n",
       "      <th>Sale (Dollars)</th>\n",
       "      <th>Volume Sold (Liters)</th>\n",
       "      <th>Volume Sold (Gallons)</th>\n",
       "    </tr>\n",
       "  </thead>\n",
       "  <tbody>\n",
       "    <tr>\n",
       "      <th>0</th>\n",
       "      <td>2015-11-04</td>\n",
       "      <td>3717</td>\n",
       "      <td>SUMNER</td>\n",
       "      <td>50674</td>\n",
       "      <td>9</td>\n",
       "      <td>1051100</td>\n",
       "      <td>55</td>\n",
       "      <td>54436</td>\n",
       "      <td>750</td>\n",
       "      <td>4.50</td>\n",
       "      <td>6.75</td>\n",
       "      <td>12</td>\n",
       "      <td>81.00</td>\n",
       "      <td>9.0</td>\n",
       "      <td>2.38</td>\n",
       "    </tr>\n",
       "    <tr>\n",
       "      <th>1</th>\n",
       "      <td>2016-03-02</td>\n",
       "      <td>2614</td>\n",
       "      <td>DAVENPORT</td>\n",
       "      <td>52807</td>\n",
       "      <td>82</td>\n",
       "      <td>1011100</td>\n",
       "      <td>395</td>\n",
       "      <td>27605</td>\n",
       "      <td>750</td>\n",
       "      <td>13.75</td>\n",
       "      <td>20.63</td>\n",
       "      <td>2</td>\n",
       "      <td>41.26</td>\n",
       "      <td>1.5</td>\n",
       "      <td>0.40</td>\n",
       "    </tr>\n",
       "    <tr>\n",
       "      <th>2</th>\n",
       "      <td>2016-02-11</td>\n",
       "      <td>2106</td>\n",
       "      <td>CEDAR FALLS</td>\n",
       "      <td>50613</td>\n",
       "      <td>7</td>\n",
       "      <td>1011200</td>\n",
       "      <td>65</td>\n",
       "      <td>19067</td>\n",
       "      <td>1000</td>\n",
       "      <td>12.59</td>\n",
       "      <td>18.89</td>\n",
       "      <td>24</td>\n",
       "      <td>453.36</td>\n",
       "      <td>24.0</td>\n",
       "      <td>6.34</td>\n",
       "    </tr>\n",
       "    <tr>\n",
       "      <th>3</th>\n",
       "      <td>2016-02-03</td>\n",
       "      <td>2501</td>\n",
       "      <td>AMES</td>\n",
       "      <td>50010</td>\n",
       "      <td>85</td>\n",
       "      <td>1071100</td>\n",
       "      <td>395</td>\n",
       "      <td>59154</td>\n",
       "      <td>1750</td>\n",
       "      <td>9.50</td>\n",
       "      <td>14.25</td>\n",
       "      <td>6</td>\n",
       "      <td>85.50</td>\n",
       "      <td>10.5</td>\n",
       "      <td>2.77</td>\n",
       "    </tr>\n",
       "    <tr>\n",
       "      <th>4</th>\n",
       "      <td>2015-08-18</td>\n",
       "      <td>3654</td>\n",
       "      <td>BELMOND</td>\n",
       "      <td>50421</td>\n",
       "      <td>99</td>\n",
       "      <td>1031080</td>\n",
       "      <td>297</td>\n",
       "      <td>35918</td>\n",
       "      <td>1750</td>\n",
       "      <td>7.20</td>\n",
       "      <td>10.80</td>\n",
       "      <td>12</td>\n",
       "      <td>129.60</td>\n",
       "      <td>21.0</td>\n",
       "      <td>5.55</td>\n",
       "    </tr>\n",
       "  </tbody>\n",
       "</table>\n",
       "</div>"
      ],
      "text/plain": [
       "        Date  Store Number         City  Zip Code  County Number  Category  \\\n",
       "0 2015-11-04          3717       SUMNER     50674              9   1051100   \n",
       "1 2016-03-02          2614    DAVENPORT     52807             82   1011100   \n",
       "2 2016-02-11          2106  CEDAR FALLS     50613              7   1011200   \n",
       "3 2016-02-03          2501         AMES     50010             85   1071100   \n",
       "4 2015-08-18          3654      BELMOND     50421             99   1031080   \n",
       "\n",
       "   Vendor Number  Item Number  Bottle Volume (ml)  State Bottle Cost  \\\n",
       "0             55        54436                 750               4.50   \n",
       "1            395        27605                 750              13.75   \n",
       "2             65        19067                1000              12.59   \n",
       "3            395        59154                1750               9.50   \n",
       "4            297        35918                1750               7.20   \n",
       "\n",
       "   State Bottle Retail  Bottles Sold  Sale (Dollars)  Volume Sold (Liters)  \\\n",
       "0                 6.75            12           81.00                   9.0   \n",
       "1                20.63             2           41.26                   1.5   \n",
       "2                18.89            24          453.36                  24.0   \n",
       "3                14.25             6           85.50                  10.5   \n",
       "4                10.80            12          129.60                  21.0   \n",
       "\n",
       "   Volume Sold (Gallons)  \n",
       "0                   2.38  \n",
       "1                   0.40  \n",
       "2                   6.34  \n",
       "3                   2.77  \n",
       "4                   5.55  "
      ]
     },
     "execution_count": 117,
     "metadata": {},
     "output_type": "execute_result"
    }
   ],
   "source": [
    "# Import numpy and pandas\n",
    "import numpy as np\n",
    "import pandas as pd\n",
    "\n",
    "# Below is basic data cleaning.  Redundant columns are removed, string-typed dollar values are converted to floats,\n",
    "# and numeric categorical values are converted to integers.\n",
    "\n",
    "## Load the data into a DataFrame\n",
    "liquor_sales = pd.read_csv(\"Iowa_Liquor_sales_sample_10pct.csv\")\n",
    "\n",
    "## Transform the dates if needed, e.g.\n",
    "liquor_sales[\"Date\"] = pd.to_datetime(liquor_sales[\"Date\"], format=\"%m/%d/%Y\")\n",
    "\n",
    "#liquor_sales.head(20)\n",
    "#print(pd.to_datetime(liquor_sales[\"Date\"].ix[0], format=\"%m/%d/%Y\"))\n",
    "\n",
    "# Remove redundant columns\n",
    "del liquor_sales[\"Category Name\"]\n",
    "del liquor_sales[\"Item Description\"]\n",
    "del liquor_sales[\"County\"]\n",
    "\n",
    "# Remove the '$' in front of dollar values and convert the values to floats\n",
    "for colname in [\"State Bottle Cost\",\"State Bottle Retail\",\"Sale (Dollars)\"]:\n",
    "    liquor_sales[colname] = liquor_sales[colname].apply(lambda val: float(val[1:]))\n",
    "\n",
    "# A small number of zip code fields contain non-numeric values, so set them to nan\n",
    "def tryint(val):\n",
    "    try:\n",
    "        return int(val)\n",
    "    except ValueError:\n",
    "        return np.nan\n",
    "    \n",
    "liquor_sales[\"Zip Code\"] = liquor_sales[\"Zip Code\"].apply(tryint)\n",
    "\n",
    "# Less than 1% of any column contains NA values, so dropping all NA's should not significantly affect the analysis\n",
    "liquor_sales.dropna(inplace=True)\n",
    "\n",
    "# Re-type the 'Category', 'County Number', and 'Zip Code' columns to integers\n",
    "for colname in [\"Category\", \"County Number\", \"Zip Code\"]:\n",
    "    liquor_sales[colname] = liquor_sales[colname].astype(int)\n",
    "    \n",
    "# We are only interested in stores that existed at the beginning of fiscal year 2015 and survived through the year\n",
    "store_date_ranges = liquor_sales.groupby([\"Store Number\"])[\"Date\"].agg([\"min\",\"max\"])\n",
    "survived_stores = store_date_ranges[(stores_ranges[\"max\"] > pd.Timestamp(\"20151001\")) &\n",
    "                                    (stores_ranges[\"min\"] < pd.Timestamp(\"20150301\"))].index\n",
    "\n",
    "liquor_sales = liquor_sales[liquor_sales[\"Store Number\"].isin(survived_stores)]\n",
    "\n",
    "print(liquor_sales.info())\n",
    "liquor_sales.head()"
   ]
  },
  {
   "cell_type": "markdown",
   "metadata": {},
   "source": [
    "# Explore the data\n",
    "\n",
    "Perform some exploratory statistical analysis and make some plots, such as histograms of transaction totals, bottles sold, etc."
   ]
  },
  {
   "cell_type": "code",
   "execution_count": 29,
   "metadata": {
    "collapsed": false
   },
   "outputs": [],
   "source": [
    "import seaborn as sns\n",
    "import matplotlib.pyplot as plt\n",
    "%matplotlib inline"
   ]
  },
  {
   "cell_type": "markdown",
   "metadata": {},
   "source": [
    "### The data set has 15 columns and 269625 rows of non-null data.  Of these, the columns fall into several rough categories:\n",
    "\n",
    "#### Numerical sales data\n",
    "\n",
    "Bottle Volume (ml), State Bottle Cost, State Bottle Retail, Bottles Sold, Sale (Dollars), Volume Sold (Liters), Volume Sold (Gallons)\n",
    "\n",
    "#### Categorical data for liquor\n",
    "\n",
    "Category, Vendor Number, Item Number\n",
    "\n",
    "#### Categorical data for stores\n",
    "\n",
    "Store Number, City, Zip Code, County Number, Category\n",
    "\n",
    "#### Date of sale\n",
    "\n",
    "Date"
   ]
  },
  {
   "cell_type": "markdown",
   "metadata": {},
   "source": [
    "### Our initial interest is in sales based on \"location, price per bottle, total bottles sold\".  It is worth noting that the data set does not provide the retail sale price of liqour -- it must be inferred from other data.\n",
    "\n",
    "The ratio of the between the \"State Bottle Retail\" value (the cost to the liquor store) and the \"State Bottle Cost\" value (the cost to the state) is 1.5 for nearly all cases.  Less than 1% of values lie more than 5% from this value.  As such, the two columns are redundant, and there is effectively only one price for liquor sold.\n",
    "\n",
    "As such, we will use the \"State Bottle Retail\" (wholesale) price as a proxy for the store profits, assuming a universal markup.  Since we consider only stores which survived the year, we can assume that there is a correspondence between orders and sales.  In making this assumption, we are forced to neglect the possibility of greater waste for different types of liquor."
   ]
  },
  {
   "cell_type": "code",
   "execution_count": 118,
   "metadata": {
    "collapsed": false
   },
   "outputs": [
    {
     "name": "stdout",
     "output_type": "stream",
     "text": [
      "Portion of ratios more than 5% away from the typical 50% mark-up : 0.80%\n"
     ]
    },
    {
     "data": {
      "image/png": "[encoded data removed]",
      "text/plain": [
       "<matplotlib.figure.Figure at 0x10d956250>"
      ]
     },
     "metadata": {},
     "output_type": "display_data"
    }
   ],
   "source": [
    "liquor_sales[\"Cost Ratio\"] = liquor_sales[\"State Bottle Retail\"] / liquor_sales[\"State Bottle Cost\"]\n",
    "liquor_sales[\"Cost Ratio\"].hist()\n",
    "print \"Portion of ratios more than 5% away from the typical 50% mark-up : {0:.2f}%\".format( 100. * \\\n",
    "                                  liquor_sales[(liquor_sales[\"Cost Ratio\"] > 1.5*1.05) \n",
    "                                               | (liquor_sales[\"Cost Ratio\"] < 1.5*.95)].shape[0] \\\n",
    "                                         / float(liquor_sales.shape[0]))"
   ]
  },
  {
   "cell_type": "markdown",
   "metadata": {},
   "source": [
    "#### Beyond the existing price data, including the price per liter (PPL) should allow better per-unit comparison across all liquors than price per bottle."
   ]
  },
  {
   "cell_type": "code",
   "execution_count": 121,
   "metadata": {
    "collapsed": false
   },
   "outputs": [],
   "source": [
    "liquor_sales[\"PPL\"] = liquor_sales[\"Sale (Dollars)\"] / liquor_sales[\"Volume Sold (Liters)\"]"
   ]
  },
  {
   "cell_type": "markdown",
   "metadata": {},
   "source": []
  },
  {
   "cell_type": "code",
   "execution_count": 123,
   "metadata": {
    "collapsed": false
   },
   "outputs": [
    {
     "data": {
      "text/plain": [
       "<matplotlib.axes._subplots.AxesSubplot at 0x1161ef210>"
      ]
     },
     "execution_count": 123,
     "metadata": {},
     "output_type": "execute_result"
    },
    {
     "data": {
      "image/png": "[encoded data removed]",
      "text/plain": [
       "<matplotlib.figure.Figure at 0x1169b5f50>"
      ]
     },
     "metadata": {},
     "output_type": "display_data"
    }
   ],
   "source": [
    "liquor_sales.groupby(\"Store Number\")[\"Sale (Dollars)\"].sum().hist(log=True)"
   ]
  },
  {
   "cell_type": "markdown",
   "metadata": {},
   "source": []
  },
  {
   "cell_type": "code",
   "execution_count": 125,
   "metadata": {
    "collapsed": false
   },
   "outputs": [
    {
     "data": {
      "text/plain": [
       "<matplotlib.axes._subplots.AxesSubplot at 0x116a79790>"
      ]
     },
     "execution_count": 125,
     "metadata": {},
     "output_type": "execute_result"
    },
    {
     "data": {
      "image/png": "[encoded data removed]",
      "text/plain": [
       "<matplotlib.figure.Figure at 0x112d24bd0>"
      ]
     },
     "metadata": {},
     "output_type": "display_data"
    }
   ],
   "source": [
    "liquor_sales.groupby(\"Store Number\")[\"PPL\"].mean().hist(log=True)"
   ]
  },
  {
   "cell_type": "markdown",
   "metadata": {},
   "source": []
  },
  {
   "cell_type": "code",
   "execution_count": null,
   "metadata": {
    "collapsed": true
   },
   "outputs": [],
   "source": []
  },
  {
   "cell_type": "markdown",
   "metadata": {},
   "source": [
    "## Record your findings\n",
    "\n",
    "Be sure to write out anything observations from your exploratory analysis."
   ]
  },
  {
   "cell_type": "markdown",
   "metadata": {},
   "source": [
    "# Mine the data\n",
    "Now you are ready to compute the variables you will use for your regression from the data. For example, you may want to\n",
    "compute total sales per store from Jan to March of 2015, mean price per bottle, etc. Refer to the readme for more ideas appropriate to your scenario.\n",
    "\n",
    "Pandas is your friend for this task. Take a look at the operations [here](http://pandas.pydata.org/pandas-docs/stable/groupby.html) for ideas on how to make the best use of pandas and feel free to search for blog and Stack Overflow posts to help you group data by certain variables and compute sums, means, etc. You may find it useful to create a new data frame to house this summary data."
   ]
  },
  {
   "cell_type": "markdown",
   "metadata": {},
   "source": [
    "# Refine the data\n",
    "Look for any statistical relationships, correlations, or other relevant properties of the dataset."
   ]
  },
  {
   "cell_type": "code",
   "execution_count": null,
   "metadata": {
    "collapsed": true
   },
   "outputs": [],
   "source": []
  },
  {
   "cell_type": "markdown",
   "metadata": {},
   "source": [
    "# Build your models\n",
    "\n",
    "Using scikit-learn or statsmodels, build the necessary models for your scenario. Evaluate model fit."
   ]
  },
  {
   "cell_type": "code",
   "execution_count": 24,
   "metadata": {
    "collapsed": true
   },
   "outputs": [],
   "source": [
    "from sklearn import linear_model\n"
   ]
  },
  {
   "cell_type": "markdown",
   "metadata": {},
   "source": [
    "## Plot your results\n",
    "\n",
    "Again make sure that you record any valuable information. For example, in the tax scenario, did you find the sales from the first three months of the year to be a good predictor of the total sales for the year? Plot the predictions versus the true values and discuss the successes and limitations of your models"
   ]
  },
  {
   "cell_type": "code",
   "execution_count": null,
   "metadata": {
    "collapsed": true
   },
   "outputs": [],
   "source": []
  },
  {
   "cell_type": "markdown",
   "metadata": {},
   "source": [
    "# Present the Results\n",
    "\n",
    "Present your conclusions and results. If you have more than one interesting model feel free to include more than one along with a discussion. Use your work in this notebook to prepare your write-up."
   ]
  },
  {
   "cell_type": "code",
   "execution_count": null,
   "metadata": {
    "collapsed": true
   },
   "outputs": [],
   "source": []
  }
 ],
 "metadata": {
  "anaconda-cloud": {},
  "kernelspec": {
   "display_name": "Python [default]",
   "language": "python",
   "name": "python2"
  },
  "language_info": {
   "codemirror_mode": {
    "name": "ipython",
    "version": 2
   },
   "file_extension": ".py",
   "mimetype": "text/x-python",
   "name": "python",
   "nbconvert_exporter": "python",
   "pygments_lexer": "ipython2",
   "version": "2.7.12"
  }
 },
 "nbformat": 4,
 "nbformat_minor": 0
}
